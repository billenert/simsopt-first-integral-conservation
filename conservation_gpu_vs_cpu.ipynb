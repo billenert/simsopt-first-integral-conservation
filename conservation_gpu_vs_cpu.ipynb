{
 "cells": [
  {
   "cell_type": "code",
   "execution_count": 1,
   "id": "d4450441-2617-4760-8cf9-82e5ffde6942",
   "metadata": {},
   "outputs": [
    {
     "name": "stderr",
     "output_type": "stream",
     "text": [
      "[login21:435008] mca_base_component_repository_open: unable to open mca_btl_openib: /usr/lib64/libnl-3.so.200: version `libnl_3_5' not found (required by /global/homes/b/billert/.conda/envs/testing_cuda_compiler/lib/openmpi/.././libnl-route-3.so.200) (ignored)\n"
     ]
    }
   ],
   "source": [
    "import os\n",
    "import logging\n",
    "import sys\n",
    "import numpy as np\n",
    "import argparse\n",
    "import time\n",
    "import matplotlib.pyplot as plt\n",
    "\n",
    "from simsopt.field.boozermagneticfield import (\n",
    "        BoozerRadialInterpolant,\n",
    "        InterpolatedBoozerField,\n",
    "        ShearAlfvenHarmonic,\n",
    "        ShearAlfvenWavesSuperposition\n",
    "        )\n",
    "from simsopt._core.util import parallel_loop_bounds\n",
    "from simsopt.field.tracing import (\n",
    "        MaxToroidalFluxStoppingCriterion,\n",
    "        MinToroidalFluxStoppingCriterion,\n",
    "        IterationStoppingCriterion,\n",
    "        trace_particles_boozer_perturbed\n",
    ")\n",
    "from simsopt.util.constants import (\n",
    "        ALPHA_PARTICLE_MASS as MASS,\n",
    "        ALPHA_PARTICLE_CHARGE as CHARGE,\n",
    "        FUSION_ALPHA_PARTICLE_ENERGY as ENERGY\n",
    ")\n",
    "from booz_xform import Booz_xform\n",
    "from stellgap import AE3DEigenvector, saw_from_ae3d\n",
    "import stellgap as sg\n",
    "from scipy import integrate\n",
    "from matplotlib.cm import ScalarMappable\n",
    "\n",
    "\n",
    "\n",
    "# ---------- ASSUMPTIONS ------------\n",
    "tracing = \"gc_vac\"\n",
    "tol = 1e-10\n",
    "resolution = 15"
   ]
  },
  {
   "cell_type": "code",
   "execution_count": 2,
   "id": "6776d868-1015-4fa8-81f9-623c1e20cc0a",
   "metadata": {},
   "outputs": [
    {
     "name": "stdout",
     "output_type": "stream",
     "text": [
      "omega= 32935.740465336436\n"
     ]
    }
   ],
   "source": [
    "import simsoptpp as sopp\n",
    "\n",
    "bump_multi = 100000\n",
    "\n",
    "filename = 'boozmn_precise_QH.nc'\n",
    "ic_folder = 'initial_conditions'\n",
    "\n",
    "\n",
    "### -------------- GPU SAW ------------\n",
    "\n",
    "saw_filename = 'mode/1st.npy'\n",
    "saw_data = np.load(saw_filename, allow_pickle=True)\n",
    "saw_data = saw_data[()]\n",
    "saw_omega = 1000*np.sqrt(saw_data['eigenvalue'])\n",
    "print(\"omega=\", saw_omega)\n",
    "s = saw_data['s_coords']\n",
    "saw_srange = (s[0], s[-1], len(s))\n",
    "saw_m = np.ascontiguousarray([x[0] for x in saw_data['harmonics']])\n",
    "saw_n = np.ascontiguousarray([x[1] for x in saw_data['harmonics']])\n",
    "saw_phihats = bump_multi * np.ascontiguousarray(np.column_stack([x[2].T for x in saw_data['harmonics']]))\n",
    "saw_nharmonics = len(saw_m)\n",
    "\n",
    "logging.basicConfig()\n",
    "logger = logging.getLogger('simsopt.field.tracing')\n",
    "\n",
    "s_init = np.loadtxt(f'{ic_folder}/s0.txt', ndmin=1)\n",
    "theta_init = np.loadtxt(f'{ic_folder}/theta0.txt', ndmin=1)\n",
    "zeta_init = np.loadtxt(f'{ic_folder}/zeta0.txt', ndmin=1)\n",
    "vpar_init = np.loadtxt(f'{ic_folder}/vpar0.txt', ndmin=1)\n",
    "# s_init = s_init[:1]\n",
    "# theta_init = theta_init[:1]\n",
    "# zeta_init = zeta_init[:1]\n",
    "# vpar_init = vpar_init[:1]\n",
    "points = np.zeros((s_init.size, 3))\n",
    "points[:, 0] = s_init\n",
    "points[:, 1] = theta_init\n",
    "points[:, 2] = zeta_init\n",
    "points = np.ascontiguousarray(points)\n",
    "vpar_init = np.ascontiguousarray(vpar_init)\n",
    "\n",
    "t1 = time.time()\n",
    "equil = Booz_xform()\n",
    "equil.verbose = 0\n",
    "equil.read_boozmn(filename)\n",
    "nfp = equil.nfp"
   ]
  },
  {
   "cell_type": "code",
   "execution_count": 3,
   "id": "b6c5f42c-6c35-49e6-9e24-9b5dcdafda4c",
   "metadata": {},
   "outputs": [],
   "source": [
    "### ------------------- CPU SAW ----------------\n",
    "eigenvector = AE3DEigenvector.load_from_numpy(filename=saw_filename)\n",
    "omega = np.sqrt(eigenvector.eigenvalue)*1000\n",
    "\n",
    "\n",
    "bri = BoozerRadialInterpolant(\n",
    "    equil=equil,\n",
    "    order=3,\n",
    "    no_K=False,\n",
    "    N = nfp * -1\n",
    ")\n",
    "\n",
    "field = InterpolatedBoozerField(\n",
    "        field=bri,\n",
    "        degree=3,\n",
    "        srange=(0, 1, resolution),\n",
    "        thetarange=(0, np.pi, resolution),\n",
    "        zetarange=(0, 2 * np.pi / nfp, resolution),\n",
    "        extrapolate=True,\n",
    "        nfp=nfp,\n",
    "        stellsym=True,\n",
    "        initialize=['modB','modB_derivs']\n",
    ")\n",
    "\n",
    "harmonic_list = []\n",
    "for harmonic in eigenvector.harmonics:\n",
    "    sbump = eigenvector.s_coords\n",
    "    bump = harmonic.amplitudes\n",
    "    sah = ShearAlfvenHarmonic(\n",
    "        Phihat_value_or_tuple=(sbump, bump_multi*bump),\n",
    "        Phim=harmonic.m,\n",
    "        Phin=harmonic.n,\n",
    "        omega=omega,\n",
    "        phase=0.0,\n",
    "        B0=field\n",
    "    )\n",
    "    harmonic_list.append(sah)\n",
    "saw = ShearAlfvenWavesSuperposition(harmonic_list)\n",
    "\n",
    "Phim=eigenvector.harmonics[0].m\n",
    "Phin=eigenvector.harmonics[0].n"
   ]
  },
  {
   "cell_type": "code",
   "execution_count": 4,
   "id": "b7171d02-70e8-4dc0-971b-93ba6d2b92b3",
   "metadata": {},
   "outputs": [
    {
     "name": "stdout",
     "output_type": "stream",
     "text": [
      "Error in |B| interpolation (5.884996043641728e-05, 8.12636157739221e-05)\n"
     ]
    }
   ],
   "source": [
    "# Evaluate error in interpolation\n",
    "print('Error in |B| interpolation', \n",
    "    field.estimate_error_modB(1000),\n",
    "    flush=True)\n",
    "\n",
    "VELOCITY = np.sqrt(2*ENERGY/MASS)\n",
    "\n",
    "# set up GPU interpolation grid\n",
    "def gen_bfield_info(field, srange, trange, zrange):\n",
    "\n",
    "\ts_grid = np.linspace(srange[0], srange[1], srange[2])\n",
    "\ttheta_grid = np.linspace(trange[0], trange[1], trange[2])\n",
    "\tzeta_grid = np.linspace(zrange[0], zrange[1], zrange[2])\n",
    "\n",
    "\tquad_pts = np.empty((srange[2]*trange[2]*zrange[2], 3))\n",
    "\tfor i in range(srange[2]):\n",
    "\t\tfor j in range(trange[2]):\n",
    "\t\t\tfor k in range(zrange[2]):\n",
    "\t\t\t\tquad_pts[trange[2]*zrange[2]*i + zrange[2]*j + k, :] = [s_grid[i], theta_grid[j], zeta_grid[k]]\n",
    "\n",
    "\n",
    "\tfield.set_points(quad_pts)\n",
    "\tG = field.G()\n",
    "\tiota = field.iota()\n",
    "\tdiotads = field.diotads()\n",
    "\tI = field.I()\n",
    "\tmodB = field.modB()\n",
    "\tJ = (G + iota*I)/(modB**2)\n",
    "\tmaxJ = np.max(J) # for rejection sampling\n",
    "\n",
    "\tpsi0 = field.psi0\n",
    "\n",
    "\t# Build interpolation data\n",
    "\tmodB_derivs = field.modB_derivs()\n",
    "\n",
    "\tdGds = field.dGds()\n",
    "\tdIds = field.dIds()\n",
    "\n",
    "\tquad_info = np.hstack((modB, modB_derivs, G, dGds, I, dIds, iota, diotads))\n",
    "\tquad_info = np.ascontiguousarray(quad_info)\n",
    "\n",
    "\treturn quad_info, maxJ, psi0\n",
    "\n",
    "# generate grid with 15 simsopt grid pts\n",
    "n_grid_pts = 15\n",
    "srange = (0, 1, 3*n_grid_pts+1)\n",
    "trange = (0, np.pi, 3*n_grid_pts+1)\n",
    "zrange = (0, 2*np.pi/nfp, 3*n_grid_pts+1)\n",
    "quad_info, maxJ, psi0 = gen_bfield_info(field, srange, trange, zrange)\n",
    "\n",
    "nparticles = len(points)"
   ]
  },
  {
   "cell_type": "code",
   "execution_count": 5,
   "id": "8ed05266-9f7e-4708-85af-ce578b7d8ae1",
   "metadata": {},
   "outputs": [],
   "source": [
    "saw.B0.set_points(points)\n",
    "mu_per_mass = (VELOCITY**2 - vpar_init**2) / (2 * saw.B0.modB()[:,0])\n",
    "MU = MASS * mu_per_mass[0]"
   ]
  },
  {
   "cell_type": "code",
   "execution_count": 6,
   "id": "bc0354fc-24ad-42d9-a780-5a0729d4af45",
   "metadata": {},
   "outputs": [
    {
     "name": "stdout",
     "output_type": "stream",
     "text": [
      "[[5.22276965e-01 5.59852742e+00 4.87096066e-01]\n",
      " [3.19042985e-02 4.05388573e+00 3.99506655e+00]\n",
      " [4.61106871e-01 5.99154091e+00 4.81580871e-03]\n",
      " [8.23107630e-01 2.56631506e+00 2.45078410e+00]\n",
      " [1.47470868e-01 3.33914476e+00 4.93994092e+00]]\n"
     ]
    }
   ],
   "source": [
    "print(points)"
   ]
  },
  {
   "cell_type": "code",
   "execution_count": null,
   "id": "2b590ca8-4350-4c17-acac-b09c869f3287",
   "metadata": {},
   "outputs": [],
   "source": [
    "cpu_gc_tys, cpu_gc_hits = trace_particles_boozer_perturbed(\n",
    "        perturbed_field=saw,\n",
    "        stz_inits=points[:1],\n",
    "        parallel_speeds=vpar_init[:1],\n",
    "        mus=mu_per_mass[:1],\n",
    "        tmax=1e-3,\n",
    "        mass=MASS,\n",
    "        charge=CHARGE,\n",
    "        Ekin=ENERGY,\n",
    "        tol=tol,\n",
    "        stopping_criteria=[\n",
    "            MaxToroidalFluxStoppingCriterion(0.9)\n",
    "        ],\n",
    "        forget_exact_path=False,\n",
    "        mode = tracing,\n",
    "        axis=2\n",
    "        )\n",
    "\n",
    "cpu_traj = np.zeros(np.shape(cpu_gc_tys[0][:, :4]))\n",
    "cpu_traj[:, 0] = cpu_gc_tys[0][:, 1]\n",
    "cpu_traj[:, 1] = cpu_gc_tys[0][:, 2]\n",
    "cpu_traj[:, 2] = cpu_gc_tys[0][:, 3]\n",
    "cpu_traj[:, 3] = cpu_gc_tys[0][:, 0]\n",
    "cpu_vpar = cpu_gc_tys[0][:, 4]\n",
    "\n"
   ]
  },
  {
   "cell_type": "code",
   "execution_count": null,
   "id": "ce0c1a4d-552e-4925-824d-a34fc9688e39",
   "metadata": {},
   "outputs": [],
   "source": [
    "print(cpu_gc_tys[0][:5])"
   ]
  },
  {
   "cell_type": "code",
   "execution_count": null,
   "id": "fdcab632-79bd-4f6c-a4c4-339b7d0e2047",
   "metadata": {},
   "outputs": [],
   "source": [
    "last_time = sopp.gpu_tracing_saw(\n",
    "\tquad_pts=quad_info, \n",
    "\tsrange=srange,\n",
    "\ttrange=trange,\n",
    "\tzrange=zrange, \n",
    "\tstz_init=points,\n",
    "\tm=MASS, \n",
    "\tq=CHARGE, \n",
    "\tvtotal=VELOCITY,  \n",
    "\tvtang=vpar_init, \n",
    "\ttmax=1e-3, \n",
    "\ttol=1e-10, \n",
    "\tpsi0=psi0, \n",
    "\tnparticles=nparticles,\n",
    "\tsaw_srange=saw_srange,\n",
    "\tsaw_m=saw_m,\n",
    "\tsaw_n=saw_n,\n",
    "\tsaw_phihats=saw_phihats,\n",
    "\tsaw_omega=saw_omega,\n",
    "\tsaw_nharmonics=saw_nharmonics, dt_save=1e-6)"
   ]
  },
  {
   "cell_type": "code",
   "execution_count": null,
   "id": "e302cc32-9ef8-47d4-b005-e951648e0704",
   "metadata": {},
   "outputs": [],
   "source": [
    "last_time = np.asanyarray(last_time, dtype=float)\n",
    "\n",
    "def split_nonzero_runs(x):\n",
    "    # boolean mask of non‑zeros\n",
    "    mask = x != 0\n",
    "    if not mask.any():\n",
    "        return []\n",
    "\n",
    "    # compute where mask changes: +1 marks a start, -1 marks an end\n",
    "    diff = np.diff(mask.astype(int))\n",
    "    starts = np.where(diff ==  1)[0] + 1\n",
    "    ends   = np.where(diff == -1)[0]\n",
    "\n",
    "    # if the very first element is non‑zero, that's a start\n",
    "    if mask[0]:\n",
    "        starts = np.r_[0, starts]\n",
    "    # if the very last element is non‑zero, that's an end\n",
    "    if mask[-1]:\n",
    "        ends = np.r_[ends, mask.size - 1]\n",
    "\n",
    "    # now slice out each run [s:e]\n",
    "    return [ x[s:e+1] for s, e in zip(starts, ends) ]\n",
    "\n",
    "\n",
    "# example\n",
    "gpu_gc_tys = split_nonzero_runs(last_time)"
   ]
  },
  {
   "cell_type": "code",
   "execution_count": null,
   "id": "0be81155-ea9f-49bb-b9ef-854557dfc576",
   "metadata": {},
   "outputs": [],
   "source": [
    "for i in range(len(gpu_gc_tys)):\n",
    "    gpu_gc_tys[i] = np.reshape(gpu_gc_tys[i], (-1, 5))"
   ]
  },
  {
   "cell_type": "code",
   "execution_count": null,
   "id": "ae231f2d-0fbc-405c-ae10-adae02106c96",
   "metadata": {},
   "outputs": [],
   "source": [
    "print(gpu_gc_tys[0][:5])"
   ]
  },
  {
   "cell_type": "code",
   "execution_count": null,
   "id": "651cf1dc-c18a-4125-8948-0615f33b8407",
   "metadata": {},
   "outputs": [],
   "source": [
    "def saw_Pzeta_Eprime_calc(saw,points,vpar):\n",
    "    saw.set_points(points)\n",
    "    modB = saw.B0.modB()[:,0]\n",
    "    G = saw.B0.G()[:,0]\n",
    "    if tracing == \"gc_vac\":\n",
    "        I = 0\n",
    "        G = np.mean(G)\n",
    "    else:\n",
    "        I = saw.B0.I()[:,0]\n",
    "    # I = 0\n",
    "    psi = saw.B0.psi0 * points[:, 0]\n",
    "    psip = saw.B0.psip()[:,0]\n",
    "    alpha = saw.alpha()[:,0]\n",
    "    phi = saw.Phi()[:,0]\n",
    "\n",
    "    Energy = 0.5*MASS*vpar**2 + MU * modB + CHARGE*phi\n",
    "    # print(vpar, modB, CHARGE*phi)\n",
    "\n",
    "    Pzeta = (G + helicity * nfp * I) * ((MASS * vpar)/modB + alpha * CHARGE) + CHARGE * (helicity * nfp * psi - psip)\n",
    "    # Pzeta = (G + helicity * nfp * I) * ((MASS * vpar)/modB + alpha * CHARGE) + CHARGE * (helicity * nfp * psi - psip)\n",
    "    \n",
    "\n",
    "    Eff = (Phin-helicity*nfp*Phim)*Energy-omega*Pzeta\n",
    "    return Energy,Pzeta,Eff\n"
   ]
  },
  {
   "cell_type": "code",
   "execution_count": null,
   "id": "a864d9d2-3089-45e7-a9b8-e5f431e26d08",
   "metadata": {},
   "outputs": [],
   "source": [
    "gpu_traj = np.zeros(np.shape(gpu_gc_tys[0][:, :4]))\n",
    "gpu_traj[:, 0] = gpu_gc_tys[0][:, 0]\n",
    "gpu_traj[:, 1] = gpu_gc_tys[0][:, 1]\n",
    "gpu_traj[:, 2] = gpu_gc_tys[0][:, 2]\n",
    "gpu_traj[:, 3] = gpu_gc_tys[0][:, 4]\n",
    "gpu_vpar = gpu_gc_tys[0][:, 3]\n"
   ]
  },
  {
   "cell_type": "code",
   "execution_count": null,
   "id": "883d04ed-04c7-47dc-9f85-2cb7fe9bc07e",
   "metadata": {},
   "outputs": [],
   "source": [
    "helicity = -1\n",
    "\n",
    "cpu_E, cpu_Pz, cpu_Ep = saw_Pzeta_Eprime_calc(saw, cpu_traj, cpu_vpar)\n",
    "gpu_E, gpu_Pz, gpu_Ep = saw_Pzeta_Eprime_calc(saw, gpu_traj, gpu_vpar)\n",
    "\n",
    "plt.plot(cpu_E, color=\"black\")\n",
    "plt.plot(gpu_E, color=\"orange\")"
   ]
  },
  {
   "cell_type": "code",
   "execution_count": null,
   "id": "9f033306-25a0-4059-b74b-e53bf833fb6c",
   "metadata": {},
   "outputs": [],
   "source": []
  },
  {
   "cell_type": "code",
   "execution_count": null,
   "id": "c18f0145-c7b3-431e-b031-b009b70eba1a",
   "metadata": {},
   "outputs": [],
   "source": [
    "peturbed = [\"cpu\", \"gpu\"]\n",
    "names = [\"E\", \"Pzeta\", \"Eprime\"]\n",
    "quantities = [[cpu_E, cpu_Pz, cpu_Ep], [gpu_E, gpu_Pz, gpu_Ep]]\n",
    "\n",
    "\n",
    "for i in range(2):\n",
    "    for j in range(3):\n",
    "        percent = (quantities[i][j] - quantities[i][j][0])/quantities[i][j][0]\n",
    "        init_value = quantities[i][j][0]\n",
    "        print(f\"{peturbed[i]} {names[j]}: Conserved to {-np.log10(np.max(np.abs(percent)))} digits\")\n"
   ]
  },
  {
   "cell_type": "code",
   "execution_count": null,
   "id": "fa08d310-6a9a-4c93-8857-99c89ecf4845",
   "metadata": {},
   "outputs": [],
   "source": [
    "plt.plot(cpu_Ep, color=\"black\")\n",
    "plt.plot(gpu_Ep, color=\"orange\")"
   ]
  },
  {
   "cell_type": "code",
   "execution_count": null,
   "id": "a977c1bf-ead1-4696-91b7-1e321f442e40",
   "metadata": {},
   "outputs": [],
   "source": [
    "np.savetxt(f\"vac_traced_gpu_{tol}_{resolution}_{bump_multi}\", gpu_gc_tys[0])\n",
    "np.savetxt(f\"vac_traced_cpu_{tol}_{resolution}_{bump_multi}\", cpu_gc_tys[0])"
   ]
  },
  {
   "cell_type": "code",
   "execution_count": 1,
   "id": "b6d726b7-6da6-4a1e-98e1-c58e8c42d3ad",
   "metadata": {},
   "outputs": [
    {
     "ename": "NameError",
     "evalue": "name 'points' is not defined",
     "output_type": "error",
     "traceback": [
      "\u001b[31m---------------------------------------------------------------------------\u001b[39m",
      "\u001b[31mNameError\u001b[39m                                 Traceback (most recent call last)",
      "\u001b[36mCell\u001b[39m\u001b[36m \u001b[39m\u001b[32mIn[1]\u001b[39m\u001b[32m, line 1\u001b[39m\n\u001b[32m----> \u001b[39m\u001b[32m1\u001b[39m \u001b[38;5;28mprint\u001b[39m(\u001b[43mpoints\u001b[49m[\u001b[32m2\u001b[39m])\n",
      "\u001b[31mNameError\u001b[39m: name 'points' is not defined"
     ]
    }
   ],
   "source": []
  },
  {
   "cell_type": "code",
   "execution_count": null,
   "id": "0d3a30e3-d8dc-4d95-b07c-d245c6b0a0b2",
   "metadata": {},
   "outputs": [],
   "source": []
  }
 ],
 "metadata": {
  "kernelspec": {
   "display_name": "testing_cuda_compiler",
   "language": "python",
   "name": "testing_cuda_compiler"
  },
  "language_info": {
   "codemirror_mode": {
    "name": "ipython",
    "version": 3
   },
   "file_extension": ".py",
   "mimetype": "text/x-python",
   "name": "python",
   "nbconvert_exporter": "python",
   "pygments_lexer": "ipython3",
   "version": "3.12.10"
  }
 },
 "nbformat": 4,
 "nbformat_minor": 5
}

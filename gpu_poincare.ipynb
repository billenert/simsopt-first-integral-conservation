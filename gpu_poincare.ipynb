{
 "cells": [
  {
   "cell_type": "code",
   "execution_count": 1,
   "id": "1406297f-942f-465a-a72f-0ab32de98d5b",
   "metadata": {},
   "outputs": [
    {
     "name": "stderr",
     "output_type": "stream",
     "text": [
      "[login13:1292557] mca_base_component_repository_open: unable to open mca_btl_openib: /usr/lib64/libnl-3.so.200: version `libnl_3_5' not found (required by /global/homes/b/billert/.conda/envs/poincare_testing/lib/openmpi/.././libnl-route-3.so.200) (ignored)\n"
     ]
    }
   ],
   "source": [
    "import logging\n",
    "import sys\n",
    "import numpy as np\n",
    "import argparse\n",
    "import time\n",
    "import matplotlib.pyplot as plt\n",
    "\n",
    "from simsopt.field.boozermagneticfield import (\n",
    "        BoozerRadialInterpolant,\n",
    "        InterpolatedBoozerField,\n",
    "        ShearAlfvenHarmonic,\n",
    "        ShearAlfvenWavesSuperposition\n",
    "        )\n",
    "from simsopt._core.util import parallel_loop_bounds\n",
    "from simsopt.field.tracing import (\n",
    "        MaxToroidalFluxStoppingCriterion,\n",
    "        MinToroidalFluxStoppingCriterion,\n",
    "        IterationStoppingCriterion,\n",
    "        trace_particles_boozer_perturbed\n",
    ")\n",
    "from simsopt.util.constants import (\n",
    "        ALPHA_PARTICLE_MASS as MASS,\n",
    "        ALPHA_PARTICLE_CHARGE as CHARGE,\n",
    "        FUSION_ALPHA_PARTICLE_ENERGY as ENERGY\n",
    ")\n",
    "from simsopt.util.constants import ALPHA_PARTICLE_MASS, ALPHA_PARTICLE_CHARGE, FUSION_ALPHA_PARTICLE_ENERGY\n",
    "from booz_xform import Booz_xform\n",
    "from stellgap import AE3DEigenvector, saw_from_ae3d\n",
    "import stellgap as sg\n",
    "from scipy import integrate\n",
    "from matplotlib.cm import ScalarMappable\n",
    "import simsoptpp as sopp\n"
   ]
  },
  {
   "cell_type": "code",
   "execution_count": 2,
   "id": "fca2d469-366a-43d8-9052-ec88246f1436",
   "metadata": {},
   "outputs": [
    {
     "name": "stdout",
     "output_type": "stream",
     "text": [
      "omega= 32935.740465336436\n"
     ]
    }
   ],
   "source": [
    "import simsoptpp as sopp\n",
    "\n",
    "bump_multi = 0.0\n",
    "\n",
    "filename = 'boozmn_precise_QH.nc'\n",
    "ic_folder = 'initial_conditions'\n",
    "\n",
    "saw_filename = 'mode/scaled_mode_32.935kHz.npy'\n",
    "saw_data = np.load(saw_filename, allow_pickle=True)\n",
    "saw_data = saw_data[()]\n",
    "saw_omega = 1000*np.sqrt(saw_data['eigenvalue'])\n",
    "print(\"omega=\", saw_omega)\n",
    "s = saw_data['s_coords']\n",
    "saw_srange = (s[0], s[-1], len(s))\n",
    "saw_m = np.ascontiguousarray([x[0] for x in saw_data['harmonics']])\n",
    "saw_n = np.ascontiguousarray([x[1] for x in saw_data['harmonics']])\n",
    "saw_phihats = bump_multi * np.ascontiguousarray(np.column_stack([x[2].T for x in saw_data['harmonics']]))\n",
    "saw_nharmonics = len(saw_m)\n",
    "\n",
    "logging.basicConfig()\n",
    "logger = logging.getLogger('simsopt.field.tracing')\n",
    "\n",
    "t1 = time.time()\n",
    "equil = Booz_xform()\n",
    "equil.verbose = 0\n",
    "equil.read_boozmn(filename)\n",
    "nfp = equil.nfp\n",
    "\n",
    "s_init = np.loadtxt(f's_init_poinc.txt', ndmin=1)\n",
    "theta_init = np.loadtxt(f'chis_init_poinc.txt', ndmin=1)\n",
    "zeta_init = np.loadtxt(f'chis_init_poinc.txt', ndmin=1)\n",
    "vpar_init = np.zeros(len(s_init)) + np.sqrt(2*ENERGY/MASS)\n",
    "# s_init = s_init[:1]\n",
    "# theta_init = theta_init[:1]\n",
    "# zeta_init = zeta_init[:1]\n",
    "# vpar_init = vpar_init[:1]\n",
    "points = np.zeros((s_init.size, 3))\n",
    "points[:, 0] = s_init\n",
    "points[:, 1] = theta_init\n",
    "points[:, 2] = zeta_init\n",
    "points = np.ascontiguousarray(points)\n",
    "vpar_init = np.ascontiguousarray(vpar_init)\n"
   ]
  },
  {
   "cell_type": "code",
   "execution_count": 3,
   "id": "2fb5feb7-d59d-40f9-83be-e24c15622aea",
   "metadata": {},
   "outputs": [
    {
     "name": "stdout",
     "output_type": "stream",
     "text": [
      "Error in |B| interpolation (6.327560498512313e-05, 8.579600348910538e-05)\n"
     ]
    }
   ],
   "source": [
    "bri = BoozerRadialInterpolant(\n",
    "    equil=equil,\n",
    "    order=3,\n",
    "    no_K=False\n",
    ")\n",
    "\n",
    "degree = 3\n",
    "srange = (0, 1, 15)\n",
    "thetarange = (0, np.pi, 15)\n",
    "zetarange = (0, 2*np.pi/nfp, 15)\n",
    "\n",
    "field = InterpolatedBoozerField(\n",
    "    bri,\n",
    "    degree=3,\n",
    "    srange=(0, 1, 15),\n",
    "    thetarange=(0, np.pi, 15),\n",
    "    zetarange=(0, 2*np.pi/nfp, 15),\n",
    "    extrapolate=True,\n",
    "    nfp=nfp,\n",
    "    stellsym=True,\n",
    "    initialize=['modB','modB_derivs']\n",
    ")\n",
    "\n",
    "# Evaluate error in interpolation\n",
    "print('Error in |B| interpolation', \n",
    "    field.estimate_error_modB(1000),\n",
    "    flush=True)\n",
    "\n",
    "VELOCITY = np.sqrt(2*ENERGY/MASS)\n",
    "\n",
    "# set up GPU interpolation grid\n",
    "def gen_bfield_info(field, srange, trange, zrange):\n",
    "\n",
    "\ts_grid = np.linspace(srange[0], srange[1], srange[2])\n",
    "\ttheta_grid = np.linspace(trange[0], trange[1], trange[2])\n",
    "\tzeta_grid = np.linspace(zrange[0], zrange[1], zrange[2])\n",
    "\n",
    "\tquad_pts = np.empty((srange[2]*trange[2]*zrange[2], 3))\n",
    "\tfor i in range(srange[2]):\n",
    "\t\tfor j in range(trange[2]):\n",
    "\t\t\tfor k in range(zrange[2]):\n",
    "\t\t\t\tquad_pts[trange[2]*zrange[2]*i + zrange[2]*j + k, :] = [s_grid[i], theta_grid[j], zeta_grid[k]]\n",
    "\n",
    "\n",
    "\tfield.set_points(quad_pts)\n",
    "\tG = field.G()\n",
    "\tiota = field.iota()\n",
    "\tdiotads = field.diotads()\n",
    "\tI = field.I()\n",
    "\tmodB = field.modB()\n",
    "\tJ = (G + iota*I)/(modB**2)\n",
    "\tmaxJ = np.max(J) # for rejection sampling\n",
    "\n",
    "\tpsi0 = field.psi0\n",
    "\n",
    "\t# Build interpolation data\n",
    "\tmodB_derivs = field.modB_derivs()\n",
    "\n",
    "\tdGds = field.dGds()\n",
    "\tdIds = field.dIds()\n",
    "\n",
    "\tquad_info = np.hstack((modB, modB_derivs, G, dGds, I, dIds, iota, diotads))\n",
    "\tquad_info = np.ascontiguousarray(quad_info)\n",
    "\n",
    "\treturn quad_info, maxJ, psi0\n",
    "\n",
    "# generate grid with 15 simsopt grid pts\n",
    "n_grid_pts = 15\n",
    "srange = (0, 1, 3*n_grid_pts+1)\n",
    "trange = (0, np.pi, 3*n_grid_pts+1)\n",
    "zrange = (0, 2*np.pi/nfp, 3*n_grid_pts+1)\n",
    "quad_info, maxJ, psi0 = gen_bfield_info(field, srange, trange, zrange)\n",
    "\n",
    "nparticles = len(points)"
   ]
  },
  {
   "cell_type": "code",
   "execution_count": 4,
   "id": "f8f00792-029a-4192-9fe3-8b856c243e16",
   "metadata": {},
   "outputs": [],
   "source": [
    "helicity = -1\n",
    "zetas = [0]\n",
    "Phim = 17\n",
    "Phin = -17\n",
    "omega = 32935.0\n",
    "omegas = [omega/(Phin - Phim*helicity*nfp)]"
   ]
  },
  {
   "cell_type": "code",
   "execution_count": 5,
   "id": "1d4221ad-542d-459a-b193-93d0cd31a0d8",
   "metadata": {},
   "outputs": [],
   "source": [
    "first_two_points = points\n",
    "first_two_vpar_init = vpar_init\n",
    "nparticles = len(first_two_points)"
   ]
  },
  {
   "cell_type": "code",
   "execution_count": 46,
   "id": "c9179078-4994-4261-96f4-3b36fa87d54d",
   "metadata": {},
   "outputs": [],
   "source": [
    "last_time = sopp.poincare_plotting(\n",
    "\tquad_pts=quad_info, \n",
    "\tsrange=srange,\n",
    "\ttrange=trange,\n",
    "\tzrange=zrange, \n",
    "\tstz_init=first_two_points,\n",
    "\tm=MASS, \n",
    "\tq=CHARGE, \n",
    "\tvtotal=VELOCITY,  \n",
    "\tvtang=first_two_vpar_init, \n",
    "\ttmax=1e-2, \n",
    "\ttol=1e-8, \n",
    "\tpsi0=psi0, \n",
    "\tnparticles=nparticles,\n",
    "\tsaw_srange=saw_srange,\n",
    "\tsaw_m=saw_m,\n",
    "\tsaw_n=saw_n,\n",
    "\tsaw_phihats=saw_phihats,\n",
    "\tsaw_omega=saw_omega,\n",
    "\tsaw_nharmonics=saw_nharmonics, dt_save=1e-6, MAX_PUNCTURES=1000, zetas=zetas, omegas=omegas)"
   ]
  },
  {
   "cell_type": "code",
   "execution_count": 47,
   "id": "3c6ba2b2-527c-42c6-a8b0-6ffe9614f957",
   "metadata": {},
   "outputs": [
    {
     "name": "stdout",
     "output_type": "stream",
     "text": [
      "19000\n",
      "[5.44053767e-03 1.09092907e-02 1.63815808e-02 ... 5.44439400e+00\n",
      " 5.44978898e+00 5.45521413e+00]\n"
     ]
    }
   ],
   "source": [
    "last_time = np.reshape(last_time, (-1, 5))\n",
    "last_time[:2] = last_time[:2] % (2 * np.pi)\n",
    "hits = (last_time[~(last_time == 0).all(1)])\n",
    "# print(hits)\n",
    "print(len(hits))\n",
    "print((hits[:, 2] % (2 * np.pi)) % (2 * np.pi))"
   ]
  },
  {
   "cell_type": "code",
   "execution_count": 48,
   "id": "b2dab7c9-34ca-4a2c-8fc9-6df82ab5410e",
   "metadata": {},
   "outputs": [
    {
     "name": "stdout",
     "output_type": "stream",
     "text": [
      "(1, 0)\n"
     ]
    }
   ],
   "source": [
    "print(np.shape(np.where(np.isclose(hits[:, 2] % (2 * np.pi), 0))))"
   ]
  },
  {
   "cell_type": "code",
   "execution_count": 6,
   "id": "e5d8bab5-189f-4022-a9b9-9c13abb96d12",
   "metadata": {},
   "outputs": [
    {
     "ename": "NameError",
     "evalue": "name 'hits' is not defined",
     "output_type": "error",
     "traceback": [
      "\u001b[0;31m---------------------------------------------------------------------------\u001b[0m",
      "\u001b[0;31mNameError\u001b[0m                                 Traceback (most recent call last)",
      "Cell \u001b[0;32mIn[6], line 6\u001b[0m\n\u001b[1;32m      4\u001b[0m plt\u001b[38;5;241m.\u001b[39mxlim([\u001b[38;5;241m0\u001b[39m, \u001b[38;5;241m2\u001b[39m \u001b[38;5;241m*\u001b[39m np\u001b[38;5;241m.\u001b[39mpi])\n\u001b[1;32m      5\u001b[0m plt\u001b[38;5;241m.\u001b[39mylim([\u001b[38;5;241m0\u001b[39m, \u001b[38;5;241m1\u001b[39m])\n\u001b[0;32m----> 6\u001b[0m s_hits \u001b[38;5;241m=\u001b[39m \u001b[43mhits\u001b[49m[:, \u001b[38;5;241m0\u001b[39m]\n\u001b[1;32m      7\u001b[0m helicity \u001b[38;5;241m=\u001b[39m \u001b[38;5;241m-\u001b[39m\u001b[38;5;241m1\u001b[39m\n\u001b[1;32m      8\u001b[0m chi_hits \u001b[38;5;241m=\u001b[39m (hits[:, \u001b[38;5;241m1\u001b[39m] \u001b[38;5;241m-\u001b[39m nfp \u001b[38;5;241m*\u001b[39m helicity \u001b[38;5;241m*\u001b[39m hits[:, \u001b[38;5;241m2\u001b[39m]) \u001b[38;5;241m%\u001b[39m (\u001b[38;5;241m2\u001b[39m \u001b[38;5;241m*\u001b[39m np\u001b[38;5;241m.\u001b[39mpi)\n",
      "\u001b[0;31mNameError\u001b[0m: name 'hits' is not defined"
     ]
    },
    {
     "data": {
      "image/png": "[encoded data removed]",
      "text/plain": [
       "<Figure size 1000x800 with 1 Axes>"
      ]
     },
     "metadata": {},
     "output_type": "display_data"
    }
   ],
   "source": [
    "plt.figure(1, figsize=(10, 8))\n",
    "plt.xlabel(r'$\\chi$', fontsize=14)\n",
    "plt.ylabel(r'$s$', fontsize=14)\n",
    "plt.xlim([0, 2 * np.pi])\n",
    "plt.ylim([0, 1])\n",
    "s_hits = hits[:, 0]\n",
    "helicity = -1\n",
    "chi_hits = (hits[:, 1] - nfp * helicity * hits[:, 2]) % (2 * np.pi)\n",
    "theta_hits = (hits[:, 1] + 2*np.pi) % (2 * np.pi) - np.pi\n",
    "plt.scatter(chi_hits, s_hits, s=2, edgecolors='none', marker='o')"
   ]
  },
  {
   "cell_type": "code",
   "execution_count": null,
   "id": "5f4968b7-caf0-484a-ae9b-e5a934414d94",
   "metadata": {},
   "outputs": [],
   "source": []
  }
 ],
 "metadata": {
  "kernelspec": {
   "display_name": "poincare_testing",
   "language": "python",
   "name": "env"
  },
  "language_info": {
   "codemirror_mode": {
    "name": "ipython",
    "version": 3
   },
   "file_extension": ".py",
   "mimetype": "text/x-python",
   "name": "python",
   "nbconvert_exporter": "python",
   "pygments_lexer": "ipython3",
   "version": "3.10.18"
  }
 },
 "nbformat": 4,
 "nbformat_minor": 5
}

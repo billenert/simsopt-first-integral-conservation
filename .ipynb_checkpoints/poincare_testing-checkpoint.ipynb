{
 "cells": [
  {
   "cell_type": "code",
   "execution_count": 1,
   "id": "82ab0cc6-bf18-4f40-b77c-c586f8111913",
   "metadata": {},
   "outputs": [
    {
     "name": "stderr",
     "output_type": "stream",
     "text": [
      "[login20:1022149] mca_base_component_repository_open: unable to open mca_btl_openib: /usr/lib64/libnl-3.so.200: version `libnl_3_5' not found (required by /global/homes/b/billert/.conda/envs/poincare_testing/lib/openmpi/.././libnl-route-3.so.200) (ignored)\n"
     ]
    }
   ],
   "source": [
    "import logging\n",
    "import sys\n",
    "import numpy as np\n",
    "import argparse\n",
    "import time\n",
    "import matplotlib.pyplot as plt\n",
    "\n",
    "from simsopt.field.boozermagneticfield import (\n",
    "        BoozerRadialInterpolant,\n",
    "        InterpolatedBoozerField,\n",
    "        ShearAlfvenHarmonic,\n",
    "        ShearAlfvenWavesSuperposition\n",
    "        )\n",
    "from simsopt._core.util import parallel_loop_bounds\n",
    "from simsopt.field.tracing import (\n",
    "        MaxToroidalFluxStoppingCriterion,\n",
    "        MinToroidalFluxStoppingCriterion,\n",
    "        IterationStoppingCriterion,\n",
    "        trace_particles_boozer_perturbed\n",
    ")\n",
    "from simsopt.util.constants import (\n",
    "        ALPHA_PARTICLE_MASS as MASS,\n",
    "        ALPHA_PARTICLE_CHARGE as CHARGE,\n",
    "        FUSION_ALPHA_PARTICLE_ENERGY as ENERGY\n",
    ")\n",
    "from simsopt.util.constants import ALPHA_PARTICLE_MASS, ALPHA_PARTICLE_CHARGE, FUSION_ALPHA_PARTICLE_ENERGY\n",
    "from booz_xform import Booz_xform\n",
    "from stellgap import AE3DEigenvector, saw_from_ae3d\n",
    "import stellgap as sg\n",
    "from scipy import integrate\n",
    "from matplotlib.cm import ScalarMappable\n",
    "import simsoptpp as sopp\n"
   ]
  },
  {
   "cell_type": "code",
   "execution_count": 2,
   "id": "ff1d4e9a-3873-443a-b5d6-7f0543dd0e27",
   "metadata": {},
   "outputs": [
    {
     "name": "stdout",
     "output_type": "stream",
     "text": [
      "omega= 32935.740465336436\n"
     ]
    }
   ],
   "source": [
    "import simsoptpp as sopp\n",
    "\n",
    "bump_multi = 0.0\n",
    "\n",
    "filename = 'boozmn_precise_QH.nc'\n",
    "ic_folder = 'initial_conditions'\n",
    "\n",
    "saw_filename = 'mode/scaled_mode_32.935kHz.npy'\n",
    "saw_data = np.load(saw_filename, allow_pickle=True)\n",
    "saw_data = saw_data[()]\n",
    "saw_omega = 1000*np.sqrt(saw_data['eigenvalue'])\n",
    "print(\"omega=\", saw_omega)\n",
    "s = saw_data['s_coords']\n",
    "saw_srange = (s[0], s[-1], len(s))\n",
    "saw_m = np.ascontiguousarray([x[0] for x in saw_data['harmonics']])\n",
    "saw_n = np.ascontiguousarray([x[1] for x in saw_data['harmonics']])\n",
    "saw_phihats = bump_multi * np.ascontiguousarray(np.column_stack([x[2].T for x in saw_data['harmonics']]))\n",
    "saw_nharmonics = len(saw_m)\n",
    "\n",
    "logging.basicConfig()\n",
    "logger = logging.getLogger('simsopt.field.tracing')\n",
    "\n",
    "t1 = time.time()\n",
    "equil = Booz_xform()\n",
    "equil.verbose = 0\n",
    "equil.read_boozmn(filename)\n",
    "nfp = equil.nfp\n",
    "\n",
    "s_init = np.loadtxt(f'{ic_folder}/s0.txt', ndmin=1)\n",
    "theta_init = np.loadtxt(f'{ic_folder}/theta0.txt', ndmin=1)\n",
    "zeta_init = np.loadtxt(f'{ic_folder}/zeta0.txt', ndmin=1)\n",
    "vpar_init = np.loadtxt(f'{ic_folder}/vpar0.txt', ndmin=1)\n",
    "# s_init = s_init[:1]\n",
    "# theta_init = theta_init[:1]\n",
    "# zeta_init = zeta_init[:1]\n",
    "# vpar_init = vpar_init[:1]\n",
    "points = np.zeros((s_init.size, 3))\n",
    "points[:, 0] = s_init\n",
    "points[:, 1] = theta_init\n",
    "points[:, 2] = zeta_init\n",
    "points = np.ascontiguousarray(points)\n",
    "vpar_init = np.ascontiguousarray(vpar_init)\n"
   ]
  },
  {
   "cell_type": "code",
   "execution_count": 3,
   "id": "c68a06df-76c2-434e-a975-92770745cfe1",
   "metadata": {},
   "outputs": [
    {
     "name": "stdout",
     "output_type": "stream",
     "text": [
      "Error in |B| interpolation (6.327560498512313e-05, 8.579600348910538e-05)\n"
     ]
    }
   ],
   "source": [
    "bri = BoozerRadialInterpolant(\n",
    "    equil=equil,\n",
    "    order=3,\n",
    "    no_K=False\n",
    ")\n",
    "\n",
    "degree = 3\n",
    "srange = (0, 1, 15)\n",
    "thetarange = (0, np.pi, 15)\n",
    "zetarange = (0, 2*np.pi/nfp, 15)\n",
    "\n",
    "field = InterpolatedBoozerField(\n",
    "    bri,\n",
    "    degree=3,\n",
    "    srange=(0, 1, 15),\n",
    "    thetarange=(0, np.pi, 15),\n",
    "    zetarange=(0, 2*np.pi/nfp, 15),\n",
    "    extrapolate=True,\n",
    "    nfp=nfp,\n",
    "    stellsym=True,\n",
    "    initialize=['modB','modB_derivs']\n",
    ")\n",
    "\n",
    "# Evaluate error in interpolation\n",
    "print('Error in |B| interpolation', \n",
    "    field.estimate_error_modB(1000),\n",
    "    flush=True)\n",
    "\n",
    "VELOCITY = np.sqrt(2*ENERGY/MASS)\n",
    "\n",
    "# set up GPU interpolation grid\n",
    "def gen_bfield_info(field, srange, trange, zrange):\n",
    "\n",
    "\ts_grid = np.linspace(srange[0], srange[1], srange[2])\n",
    "\ttheta_grid = np.linspace(trange[0], trange[1], trange[2])\n",
    "\tzeta_grid = np.linspace(zrange[0], zrange[1], zrange[2])\n",
    "\n",
    "\tquad_pts = np.empty((srange[2]*trange[2]*zrange[2], 3))\n",
    "\tfor i in range(srange[2]):\n",
    "\t\tfor j in range(trange[2]):\n",
    "\t\t\tfor k in range(zrange[2]):\n",
    "\t\t\t\tquad_pts[trange[2]*zrange[2]*i + zrange[2]*j + k, :] = [s_grid[i], theta_grid[j], zeta_grid[k]]\n",
    "\n",
    "\n",
    "\tfield.set_points(quad_pts)\n",
    "\tG = field.G()\n",
    "\tiota = field.iota()\n",
    "\tdiotads = field.diotads()\n",
    "\tI = field.I()\n",
    "\tmodB = field.modB()\n",
    "\tJ = (G + iota*I)/(modB**2)\n",
    "\tmaxJ = np.max(J) # for rejection sampling\n",
    "\n",
    "\tpsi0 = field.psi0\n",
    "\n",
    "\t# Build interpolation data\n",
    "\tmodB_derivs = field.modB_derivs()\n",
    "\n",
    "\tdGds = field.dGds()\n",
    "\tdIds = field.dIds()\n",
    "\n",
    "\tquad_info = np.hstack((modB, modB_derivs, G, dGds, I, dIds, iota, diotads))\n",
    "\tquad_info = np.ascontiguousarray(quad_info)\n",
    "\n",
    "\treturn quad_info, maxJ, psi0\n",
    "\n",
    "# generate grid with 15 simsopt grid pts\n",
    "n_grid_pts = 15\n",
    "srange = (0, 1, 3*n_grid_pts+1)\n",
    "trange = (0, np.pi, 3*n_grid_pts+1)\n",
    "zrange = (0, 2*np.pi/nfp, 3*n_grid_pts+1)\n",
    "quad_info, maxJ, psi0 = gen_bfield_info(field, srange, trange, zrange)\n",
    "\n",
    "nparticles = len(points)"
   ]
  },
  {
   "cell_type": "code",
   "execution_count": 4,
   "id": "bcf28470-602d-4309-bed9-4cfb6454ec71",
   "metadata": {},
   "outputs": [],
   "source": [
    "zetas = [1]\n",
    "omegas = [0]"
   ]
  },
  {
   "cell_type": "code",
   "execution_count": 5,
   "id": "c46e1584-d371-4b53-8c1e-29eebfcf95a6",
   "metadata": {},
   "outputs": [],
   "source": [
    "first_two_points = points\n",
    "first_two_vpar_init = vpar_init\n",
    "nparticles = len(first_two_points)"
   ]
  },
  {
   "cell_type": "code",
   "execution_count": 6,
   "id": "77246ae4-4871-41cc-98f3-0f48afc33e7b",
   "metadata": {},
   "outputs": [
    {
     "name": "stdout",
     "output_type": "stream",
     "text": [
      "[[6.43670430e-01 3.78727399e+00 8.55900500e-01]\n",
      " [5.22276965e-01 5.59852742e+00 4.87096066e-01]\n",
      " [3.19042985e-02 4.05388573e+00 3.99506655e+00]\n",
      " [4.61106871e-01 5.99154091e+00 4.81580871e-03]\n",
      " [8.23107630e-01 2.56631506e+00 2.45078410e+00]\n",
      " [1.47470868e-01 3.33914476e+00 4.93994092e+00]]\n"
     ]
    }
   ],
   "source": [
    "print(points)"
   ]
  },
  {
   "cell_type": "code",
   "execution_count": 13,
   "id": "48183f1b-ccb7-4b0c-9237-8f97d557df83",
   "metadata": {},
   "outputs": [],
   "source": [
    "last_time = sopp.poincare_plotting(\n",
    "\tquad_pts=quad_info, \n",
    "\tsrange=srange,\n",
    "\ttrange=trange,\n",
    "\tzrange=zrange, \n",
    "\tstz_init=first_two_points,\n",
    "\tm=MASS, \n",
    "\tq=CHARGE, \n",
    "\tvtotal=VELOCITY,  \n",
    "\tvtang=first_two_vpar_init, \n",
    "\ttmax=1e-3, \n",
    "\ttol=1e-10, \n",
    "\tpsi0=psi0, \n",
    "\tnparticles=nparticles,\n",
    "\tsaw_srange=saw_srange,\n",
    "\tsaw_m=saw_m,\n",
    "\tsaw_n=saw_n,\n",
    "\tsaw_phihats=saw_phihats,\n",
    "\tsaw_omega=saw_omega,\n",
    "\tsaw_nharmonics=saw_nharmonics, dt_save=1e-6, MAX_PUNCTURES=1000, zetas=zetas, omegas=omegas)"
   ]
  },
  {
   "cell_type": "code",
   "execution_count": 14,
   "id": "331fca60-dcd2-4d69-a2e8-89481b47c03f",
   "metadata": {},
   "outputs": [],
   "source": [
    "last_time = np.reshape(last_time, (-1, 5))\n",
    "last_time = last_time % (2 * np.pi)\n",
    "hits = (last_time[~(last_time == 0).all(1)])"
   ]
  },
  {
   "cell_type": "code",
   "execution_count": 17,
   "id": "15ad6dc6-065f-4c81-9ea7-db6d7c08719d",
   "metadata": {},
   "outputs": [
    {
     "name": "stdout",
     "output_type": "stream",
     "text": [
      "[[7.02942503e-01 5.13388372e+00 1.00000000e+00 3.32223759e+00\n",
      "  1.27108266e-05]\n",
      " [6.80198730e-01 3.60876813e-01 1.00000000e+00 4.60821507e+00\n",
      "  2.57332898e-05]\n",
      " [6.29558226e-01 1.91892317e+00 1.00000000e+00 4.87886505e+00\n",
      "  3.87083558e-05]\n",
      " ...\n",
      " [1.41241129e-01 4.04316559e+00 1.00000000e+00 4.69453271e+00\n",
      "  9.41627672e-04]\n",
      " [1.62326730e-01 5.56191203e+00 1.00000000e+00 2.89590127e+00\n",
      "  9.62573317e-04]\n",
      " [1.34906267e-01 8.20533929e-01 1.00000000e+00 1.31862472e+00\n",
      "  9.83570476e-04]]\n"
     ]
    }
   ],
   "source": [
    "print(hits)"
   ]
  },
  {
   "cell_type": "code",
   "execution_count": 15,
   "id": "d34dc456-89a9-4295-ad33-0e74fc86a183",
   "metadata": {},
   "outputs": [
    {
     "name": "stdout",
     "output_type": "stream",
     "text": [
      "365\n"
     ]
    }
   ],
   "source": [
    "print(len(hits))"
   ]
  },
  {
   "cell_type": "code",
   "execution_count": 16,
   "id": "5e318f28-a631-4d2f-ba91-6ea73548c3f4",
   "metadata": {},
   "outputs": [
    {
     "data": {
      "text/plain": [
       "[<matplotlib.lines.Line2D at 0x7f6818495900>]"
      ]
     },
     "execution_count": 16,
     "metadata": {},
     "output_type": "execute_result"
    },
    {
     "data": {
      "image/png": "[encoded data removed]",
      "text/plain": [
       "<Figure size 640x480 with 1 Axes>"
      ]
     },
     "metadata": {},
     "output_type": "display_data"
    }
   ],
   "source": [
    "plt.plot(hits[:100, 2])"
   ]
  },
  {
   "cell_type": "code",
   "execution_count": 18,
   "id": "a6bae2a6-9a1d-4f07-825a-b040420db5e3",
   "metadata": {},
   "outputs": [],
   "source": [
    "theta_hits = hits[:, 1]\n",
    "s_hits = hits[:, 0]"
   ]
  },
  {
   "cell_type": "code",
   "execution_count": 19,
   "id": "6c48e679-fa4b-478d-b10e-a7fe9a051274",
   "metadata": {},
   "outputs": [
    {
     "data": {
      "text/plain": [
       "Text(0.5, 0, 'theta (normalized)')"
      ]
     },
     "execution_count": 19,
     "metadata": {},
     "output_type": "execute_result"
    },
    {
     "data": {
      "image/png": "[encoded data removed]",
      "text/plain": [
       "<Figure size 640x480 with 1 Axes>"
      ]
     },
     "metadata": {},
     "output_type": "display_data"
    }
   ],
   "source": [
    "import matplotlib.pyplot as plt\n",
    "plt.scatter(theta_hits, s_hits, s=1)\n",
    "plt.ylabel(\"s (normalized)\")\n",
    "plt.xlabel(\"theta (normalized)\")"
   ]
  },
  {
   "cell_type": "code",
   "execution_count": null,
   "id": "a0eacf44-d69c-4d61-92c1-73743bf7c986",
   "metadata": {},
   "outputs": [],
   "source": []
  }
 ],
 "metadata": {
  "kernelspec": {
   "display_name": "poincare_testing",
   "language": "python",
   "name": "env"
  },
  "language_info": {
   "codemirror_mode": {
    "name": "ipython",
    "version": 3
   },
   "file_extension": ".py",
   "mimetype": "text/x-python",
   "name": "python",
   "nbconvert_exporter": "python",
   "pygments_lexer": "ipython3",
   "version": "3.10.18"
  }
 },
 "nbformat": 4,
 "nbformat_minor": 5
}
